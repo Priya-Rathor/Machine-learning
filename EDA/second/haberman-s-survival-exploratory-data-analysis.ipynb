{
 "cells": [
  {
   "cell_type": "markdown",
   "metadata": {
    "_uuid": "2ba18cc6d797e00d9a10a3e9f06171dc73d0117e"
   },
   "source": [
    "**Data Description**\n",
    "The Haberman's survival dataset contains cases from a study that was conducted between 1958 and 1970 at the University of Chicago's Billings Hospital on the survival of patients who had undergone surgery for breast cancer.\n",
    "\n",
    "**Attribute Information:**\n",
    "1. Age of patient at time of operation (numerical)\n",
    "2. Patient's year of operation (year - 1900, numerical)\n",
    "3. Number of positive axillary nodes detected (numerical)\n",
    "4. Survival status (class attribute) 1 = the patient survived 5 years or longer 2 = the patient died within 5 years"
   ]
  },
  {
   "cell_type": "markdown",
   "metadata": {
    "_cell_guid": "a2e6c1f9-e2e0-40c3-8645-39599c565cc1",
    "_uuid": "b083405c4c4bf72cc93bdbfdac646e2368756797"
   },
   "source": [
    "## 0. Environment Configuration"
   ]
  },
  {
   "cell_type": "code",
   "execution_count": 1,
   "metadata": {
    "_cell_guid": "b1076dfc-b9ad-4769-8c92-a6c4dae69d19",
    "_uuid": "8f2839f25d086af736a60e9eeb907d3b93b6e0e5",
    "trusted": true
   },
   "outputs": [],
   "source": [
    "# check for the input dataset\n",
    "import os\n",
    "print(os.listdir('../input'))"
   ]
  },
  {
   "cell_type": "code",
   "execution_count": 2,
   "metadata": {
    "_cell_guid": "79c7e3d0-c299-4dcb-8224-4455121ee9b0",
    "_uuid": "d629ff2d2480ee46fbb7e2d37f6b5fab8052498a",
    "collapsed": true,
    "trusted": true
   },
   "outputs": [],
   "source": [
    "# import necessary packages\n",
    "import numpy as np\n",
    "import pandas as pd\n",
    "import matplotlib.pyplot as plt\n",
    "import seaborn as sns\n",
    "sns.set()"
   ]
  },
  {
   "cell_type": "code",
   "execution_count": 3,
   "metadata": {
    "_cell_guid": "56494fb9-9262-49d3-9ddd-eb1ae7e2d3b7",
    "_uuid": "1def71c9a2892067e93fafec24e40e1c4f29ed9f",
    "trusted": true
   },
   "outputs": [],
   "source": [
    "# load the dataset\n",
    "cancer_df = pd.read_csv('../input/haberman.csv', header=None, names=['age', 'year_of_treatment', 'positive_lymph_nodes', 'survival_status_after_5_years'])\n",
    "print(cancer_df.head())"
   ]
  },
  {
   "cell_type": "markdown",
   "metadata": {
    "_cell_guid": "b2749d6a-c2d2-476f-b1c8-cb1f6c373cf7",
    "_uuid": "f0dac027afb6ba347a52c64ea86c69cbedea5f86"
   },
   "source": [
    "## 2. Data Preparation"
   ]
  },
  {
   "cell_type": "code",
   "execution_count": 4,
   "metadata": {
    "_cell_guid": "d5a308d4-a551-4b6d-a4ac-b31b89b9a884",
    "_uuid": "c4dd91defadeb4fae0ca248682a4288cf01da0ca",
    "trusted": true
   },
   "outputs": [],
   "source": [
    "print(cancer_df.info())"
   ]
  },
  {
   "cell_type": "markdown",
   "metadata": {
    "_cell_guid": "57ab3f4d-63dd-4cb7-8f78-813a118708c3",
    "_uuid": "f5e2b07229ce0eadbcb8b6b02ff53d499dd738af"
   },
   "source": [
    "### Observations:\n",
    "* There are no missing values in this dataset. So there is no need to do data imputation.\n",
    "* The datatype of 'survival_status_after_5_years' column is integer. It has to be converted to categorical datatype.\n",
    "* The values of 'survival_status_after_5_years' column are not meanigful. Hence they are mapped to 'yes' (survived after 5 years) and 'no' (not survived after 5 years)\n",
    "    "
   ]
  },
  {
   "cell_type": "code",
   "execution_count": 5,
   "metadata": {
    "_cell_guid": "0fdfc33f-7063-4b4c-9ec4-2b81174beed4",
    "_uuid": "58334cbe3160d082a53da5d3a207a79eba132102",
    "trusted": true
   },
   "outputs": [],
   "source": [
    "# print the unique valuesof the target column\n",
    "print(list(cancer_df['survival_status_after_5_years'].unique()))"
   ]
  },
  {
   "cell_type": "code",
   "execution_count": 6,
   "metadata": {
    "_cell_guid": "ef6d784a-7164-4f50-b309-52f7f733ba4b",
    "_uuid": "1af95a47c9c8119942b463d8349a5a38c9ace441",
    "trusted": true
   },
   "outputs": [],
   "source": [
    "# modify the target column values to be meaningful as well as categorical\n",
    "cancer_df['survival_status_after_5_years'] = cancer_df['survival_status_after_5_years'].map({1:\"yes\", 2:\"no\"})\n",
    "cancer_df['survival_status_after_5_years'] = cancer_df['survival_status_after_5_years'].astype('category')\n",
    "print(cancer_df.head())"
   ]
  },
  {
   "cell_type": "code",
   "execution_count": 7,
   "metadata": {
    "_cell_guid": "5b410c33-42ab-4e93-a841-f56a79e82608",
    "_uuid": "3a1627f62f4d525a053738be058f8d260a7a1182",
    "trusted": true
   },
   "outputs": [],
   "source": [
    "print(cancer_df.info())"
   ]
  },
  {
   "cell_type": "markdown",
   "metadata": {
    "_cell_guid": "5fe202c8-00a9-410e-bf38-9dd4af95db53",
    "_uuid": "7fff9c5f204ba28946c4af5d3dc8dccf93427562"
   },
   "source": [
    "## 3. High Level Statistics"
   ]
  },
  {
   "cell_type": "code",
   "execution_count": 8,
   "metadata": {
    "_cell_guid": "ff08a94d-1da0-478d-b90d-02d2cbe51e6d",
    "_uuid": "7af1e2bed3bf1bfd5dc69debf1b05e9284bcaff0",
    "trusted": true
   },
   "outputs": [],
   "source": [
    "print(cancer_df.describe())"
   ]
  },
  {
   "cell_type": "code",
   "execution_count": 9,
   "metadata": {
    "_cell_guid": "b83246b2-3cfd-4867-9aec-4d6b600b45e9",
    "_uuid": "6a8985fc623f94deca3c559feaf0de9c3d1c470f",
    "trusted": true
   },
   "outputs": [],
   "source": [
    "print(\"Number of rows: \" + str(cancer_df.shape[0]))\n",
    "print(\"Number of columns: \" + str(cancer_df.shape[1]))\n",
    "print(\"Columns: \" + \", \".join(cancer_df.columns))\n",
    "\n",
    "print(\"Target variable distribution\")\n",
    "print(cancer_df.iloc[:,-1].value_counts())\n",
    "print(\"*\"*50)\n",
    "print(cancer_df.iloc[:,-1].value_counts(normalize = True))"
   ]
  },
  {
   "cell_type": "markdown",
   "metadata": {
    "_cell_guid": "537b16fe-4a3f-47e5-ad51-f1aa85d77446",
    "_uuid": "dec24933d3439e52f60fc382674e63036dcb7fca"
   },
   "source": [
    "### Observations:\n",
    "* The age of the patients vary from 30 to 83 with the median of 52.\n",
    "* Although the maximum number of positive lymph nodes observed is 52, nearly 75% of the patients have less than 5 positive lymph nodes and nearly 25% of the patients have no positive lymph nodes \n",
    "* The dataset contains only a small number of records (306). \n",
    "* The target column is imbalanced with 73% of values are 'yes'"
   ]
  },
  {
   "cell_type": "markdown",
   "metadata": {
    "_cell_guid": "fac5c8c0-ac75-4291-952e-08e79388bdb4",
    "_uuid": "e3aa6ced766366861e1c183acd0eab2b56abcd8c"
   },
   "source": [
    "## 4. Objective\n",
    "* To predict whether the patient will survive after 5 years or not based upon the patient's age, year of treatment and the number of positive lymph nodes"
   ]
  },
  {
   "cell_type": "markdown",
   "metadata": {
    "_cell_guid": "ad727ea7-12a8-478e-b910-4f80c6d544d2",
    "_uuid": "69e5e33edea9ba0ec59f273bdb3506ddaecd9b9f"
   },
   "source": [
    "## 5. Univariate Analysis"
   ]
  },
  {
   "cell_type": "code",
   "execution_count": 11,
   "metadata": {
    "_cell_guid": "785d95db-6484-4aaa-8e2c-249fccea7919",
    "_uuid": "00f50bcdaa15e41a6e327d4a13210d060c02bfb0",
    "trusted": true
   },
   "outputs": [],
   "source": [
    "#5.1 Distribution plots\n",
    "\"\"\"\n",
    "* Distribution plots are used to visually assess how the data points are distributed with respect to its frequency.\n",
    "* Usually the data points are grouped into bins and the height of the bars representing each group increases with increase in the number of data points \n",
    "lie within that group. (histogram)\n",
    "* Probality Density Function (PDF) is the probabilty that the variable takes a value x. (smoothed version of the histogram)\n",
    "* Kernel Density Estimate (KDE) is the way to estimate the PDF. The area under the KDE curve is 1.\n",
    "* Here the height of the bar denotes the percentage of data points under the corresponding group\n",
    "\"\"\"\n",
    "for idx, feature in enumerate(list(cancer_df.columns)[:-1]):\n",
    "    fg = sns.FacetGrid(cancer_df, hue='survival_status_after_5_years', size=5)\n",
    "    fg.map(sns.distplot, feature).add_legend()\n",
    "    plt.show()"
   ]
  },
  {
   "cell_type": "code",
   "execution_count": 12,
   "metadata": {
    "_cell_guid": "e194ebe8-5e43-4c71-b7ba-0575ea15614d",
    "_uuid": "30bec61195022c7cd0309f2179000fe752efd1fa",
    "trusted": true
   },
   "outputs": [],
   "source": [
    "#5.2 CDF\n",
    "\"\"\"\n",
    "The cumulative distribution function (cdf) is the probability that the variable takes a value less than or equal to x.\n",
    "\"\"\"\n",
    "plt.figure(figsize=(20,5))\n",
    "for idx, feature in enumerate(list(cancer_df.columns)[:-1]):\n",
    "    plt.subplot(1, 3, idx+1)\n",
    "    print(\"********* \"+feature+\" *********\")\n",
    "    counts, bin_edges = np.histogram(cancer_df[feature], bins=10, density=True)\n",
    "    print(\"Bin Edges: {}\".format(bin_edges))\n",
    "    pdf = counts/sum(counts)\n",
    "    print(\"PDF: {}\".format(pdf))\n",
    "    cdf = np.cumsum(pdf)\n",
    "    print(\"CDF: {}\".format(cdf))\n",
    "    plt.plot(bin_edges[1:], pdf, bin_edges[1:], cdf)\n",
    "    plt.xlabel(feature)"
   ]
  },
  {
   "cell_type": "code",
   "execution_count": 13,
   "metadata": {
    "_cell_guid": "326ae1c4-0cce-4620-ba61-50aa82df8d9b",
    "_uuid": "17b001588dab6d635e8db1f995294c00fa438fb1",
    "trusted": true
   },
   "outputs": [],
   "source": [
    "#5.3 Box Plots\n",
    "\"\"\"\n",
    "Box plot takes a less space and visually represents the five number summary of the data points in a box. \n",
    "The outliers are displayed as points outside the box.\n",
    "1. Q1 - 1.5*IQR\n",
    "2. Q1 (25th percentile)\n",
    "3. Q2 (50th percentile or median)\n",
    "4. Q3 (75th percentile)\n",
    "5. Q3 + 1.5*IQR\n",
    "Inter Quartile Range = Q3 -Q1\n",
    "\"\"\"\n",
    "fig, axes = plt.subplots(1, 3, figsize=(15, 5))\n",
    "for idx, feature in enumerate(list(cancer_df.columns)[:-1]):\n",
    "    sns.boxplot( x='survival_status_after_5_years', y=feature, data=cancer_df, ax=axes[idx])\n",
    "plt.show()  "
   ]
  },
  {
   "cell_type": "code",
   "execution_count": 14,
   "metadata": {
    "_cell_guid": "2938ce3b-23fc-4caa-955f-30f2a9351124",
    "_uuid": "3520079af51298c794164d8fcd8e31d370a4a786",
    "trusted": true
   },
   "outputs": [],
   "source": [
    "#5.4 Violin Plots\n",
    "\"\"\"\n",
    "Violin plot is the combination of box plot and probability density function.\n",
    "\"\"\"\n",
    "fig, axes = plt.subplots(1, 3, figsize=(15, 5))\n",
    "for idx, feature in enumerate(list(cancer_df.columns)[:-1]):\n",
    "    sns.violinplot( x='survival_status_after_5_years', y=feature, data=cancer_df, ax=axes[idx])\n",
    "plt.show()"
   ]
  },
  {
   "cell_type": "markdown",
   "metadata": {
    "_uuid": "987f044a98e31c4c840425868985751f93db3af4"
   },
   "source": [
    "## Observations\n",
    "* The number of positive lymph nodes of the survivors is highly densed from 0 to 5. (#5.1)\n",
    "* Almost 80% of the patients have less than or equal to 5 positive lymph nodea. (#5.2)\n",
    "* The patients treated after 1966 have the slighlty higher chance to surive that the rest. The patients treated before 1959 have the slighlty lower chance to surive that the rest. (#5.3 and #5.4)"
   ]
  },
  {
   "cell_type": "markdown",
   "metadata": {
    "_cell_guid": "674ed1c7-df02-4cce-aa5a-2681a027718e",
    "_uuid": "34ae3252879ebee413429abc26838ac897f578b8"
   },
   "source": [
    "## 6. Multivariate Analysis"
   ]
  },
  {
   "cell_type": "code",
   "execution_count": 15,
   "metadata": {
    "_cell_guid": "83f67514-a652-4106-93cb-82e049798685",
    "_uuid": "018129fb1197fec5aedafea04890e35c25844f08",
    "trusted": true
   },
   "outputs": [],
   "source": [
    "# pair plot\n",
    "\"\"\"\n",
    "Pair plot in seaborn plots the scatter plot between every two data columns in a given dataframe.\n",
    "It is used to visualize the relationship between two variables\n",
    "\"\"\"\n",
    "sns.pairplot(cancer_df, hue='survival_status_after_5_years', size=4)\n",
    "plt.show()"
   ]
  },
  {
   "cell_type": "markdown",
   "metadata": {
    "_uuid": "cd47699b76d229c904fa3d35623a02dc83a6a76c"
   },
   "source": [
    "## Observations\n",
    "* By scattering the data points between *year_of_treatment* and *positive_lymph_nodes*,  we can see the better seperation between the two clases than other scatter plots."
   ]
  }
 ],
 "metadata": {
  "kernelspec": {
   "display_name": "Python (.venv)",
   "language": "python",
   "name": ".venv"
  },
  "language_info": {
   "codemirror_mode": {
    "name": "ipython",
    "version": 3
   },
   "file_extension": ".py",
   "mimetype": "text/x-python",
   "name": "python",
   "nbconvert_exporter": "python",
   "pygments_lexer": "ipython3",
   "version": "3.10.3"
  }
 },
 "nbformat": 4,
 "nbformat_minor": 1
}
