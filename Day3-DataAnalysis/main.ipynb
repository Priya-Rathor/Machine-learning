{
 "cells": [
  {
   "cell_type": "markdown",
   "metadata": {},
   "source": [
    "# Waht is Data Analysis Process \n",
    "\n",
    "data analysis ia a process of inspecting cleansing , transfroming and modeling data with the goal of discovering useful information , informing  conclusions and supporting decision-makeing."
   ]
  },
  {
   "cell_type": "markdown",
   "metadata": {},
   "source": [
    "# Parts of data analysis Process\n",
    "\n",
    "* Asking Questions \n",
    "* Data wrangling\n",
    "* Exploratory  Data Analysis \n",
    "* Drawing Conclusions\n",
    "* Communicating Results"
   ]
  },
  {
   "cell_type": "markdown",
   "metadata": {},
   "source": [
    "# Step 1 : Asking Questions\n",
    "\n",
    "* 1. What features will contribute to my analysis?\n",
    "* 2. What features are not important for my analysis?\n",
    "* 3. Which of the features have a strong correlation?\n",
    "* 4. Do I need data preprocessing?\n",
    "* 5. What kind of feaure manipulation/engineering is required ?"
   ]
  },
  {
   "cell_type": "markdown",
   "metadata": {},
   "source": [
    "# How to i ask better questions ?\n",
    "\n",
    "* 1. subjects Matter Expertise \n",
    "* 2. Experience"
   ]
  },
  {
   "cell_type": "markdown",
   "metadata": {},
   "source": [
    "# step 2 : Data Wrangling / Munging\n",
    "\n",
    "Data wrangling , sometimes referred to as data munging , it the process of transforming and mapping data from one \"raw\" data form into another format with the intent of making it more appropriate and valuable for a variety  of downstream purposes such as analytics.\n",
    "\n",
    "* 1. Gathering Data\n",
    "* 2. Assessing Data\n",
    "* 3. Cleaning Data\n",
    "\n",
    "# 1. Gathering Data :- csv Files , api , web scraping , databases\n",
    "\n",
    "# 2. Assessing data :- \n",
    "\n",
    "* 1. Find the number of rows/columns (shape)\n",
    "* 2. Data types of various columns(info())\n",
    "* 3. checking for missing values(info())\n",
    "* 4. check for duplicate data(is_unique)\n",
    "* 5. Memory occupied by the dataset(info)\n",
    "* 6. High level mathematical overvies of the data(describe)\n",
    "\n",
    "# 3. Cleaning data \n",
    "\n",
    "* 1. Missing Data(e.g mean)\n",
    "* 2. Remove duplicate data (drop_duplicates)\n",
    "* 3. Incorrect data type(astype)"
   ]
  },
  {
   "cell_type": "markdown",
   "metadata": {},
   "source": [
    "# Step 3 : Exploratory Data Analysis \n",
    "\n",
    "* Explore      Augment\n",
    "\n",
    "# 1. Explore :- \n",
    "* 1. Finding Correlation and Covariance\n",
    "* 2. Doing Univariate and Multivariate analysis\n",
    "* 3. Plotting graphs (data visualiztion)\n",
    "\n",
    "\n",
    "# Augment :- \n",
    "* 1. Removing Outliers\n",
    "* 2. Merging DataFremes\n",
    "* 3. adding new Column\n",
    "\n",
    "These operations are collectively called as feature Engineering"
   ]
  },
  {
   "cell_type": "markdown",
   "metadata": {},
   "source": [
    "# step 4: Drawing Conclusions\n",
    "\n",
    "* 1. Machine Learing\n",
    "* 2. Inferential Statisties\n",
    "* 3. Descriptive Statistics\n",
    " "
   ]
  },
  {
   "cell_type": "markdown",
   "metadata": {},
   "source": [
    "# Step 5: Communicating results / Data Storytelling\n",
    "\n",
    "* In person\n",
    "\n",
    "* blog Post\n",
    "\n",
    "* Reports\n",
    "\n",
    "* PPTs/ slide decks"
   ]
  },
  {
   "cell_type": "markdown",
   "metadata": {},
   "source": []
  },
  {
   "cell_type": "markdown",
   "metadata": {},
   "source": []
  },
  {
   "cell_type": "markdown",
   "metadata": {},
   "source": []
  },
  {
   "cell_type": "code",
   "execution_count": null,
   "metadata": {},
   "outputs": [],
   "source": []
  }
 ],
 "metadata": {
  "language_info": {
   "name": "python"
  }
 },
 "nbformat": 4,
 "nbformat_minor": 2
}
