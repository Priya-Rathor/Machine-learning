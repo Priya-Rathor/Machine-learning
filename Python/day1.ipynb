{
 "cells": [
  {
   "cell_type": "code",
   "execution_count": 1,
   "metadata": {},
   "outputs": [
    {
     "name": "stdout",
     "output_type": "stream",
     "text": [
      "hello\n"
     ]
    }
   ],
   "source": [
    "print(\"hello\")"
   ]
  },
  {
   "cell_type": "code",
   "execution_count": 2,
   "metadata": {},
   "outputs": [
    {
     "name": "stdout",
     "output_type": "stream",
     "text": [
      "India Pakistan\n"
     ]
    }
   ],
   "source": [
    "print(\"India\",\"Pakistan\")"
   ]
  },
  {
   "cell_type": "code",
   "execution_count": 3,
   "metadata": {},
   "outputs": [
    {
     "name": "stdout",
     "output_type": "stream",
     "text": [
      "India 5 True\n"
     ]
    }
   ],
   "source": [
    "print(\"India\",5,True)"
   ]
  },
  {
   "cell_type": "code",
   "execution_count": 6,
   "metadata": {},
   "outputs": [
    {
     "name": "stdout",
     "output_type": "stream",
     "text": [
      "India/Pakistan\n"
     ]
    }
   ],
   "source": [
    "print(\"India\",\"Pakistan\",sep='/')"
   ]
  },
  {
   "cell_type": "code",
   "execution_count": 7,
   "metadata": {},
   "outputs": [
    {
     "name": "stdout",
     "output_type": "stream",
     "text": [
      "hello world\n"
     ]
    }
   ],
   "source": [
    "print(\"hello\",end=' ')\n",
    "print(\"world\")"
   ]
  },
  {
   "cell_type": "markdown",
   "metadata": {},
   "source": [
    "# Python supports categories of data types\n",
    ".Basic Types -(integer , float, complex,boolean and string)\n",
    ".Container Types - (List, tuples, Sets and Dictionary)\n",
    ".User- defined types - class"
   ]
  },
  {
   "cell_type": "code",
   "execution_count": 8,
   "metadata": {},
   "outputs": [
    {
     "name": "stdout",
     "output_type": "stream",
     "text": [
      "4\n",
      "inf\n"
     ]
    }
   ],
   "source": [
    "print(4)\n",
    "print(1e309)"
   ]
  },
  {
   "cell_type": "code",
   "execution_count": 9,
   "metadata": {},
   "outputs": [
    {
     "name": "stdout",
     "output_type": "stream",
     "text": [
      "True\n",
      "False\n"
     ]
    }
   ],
   "source": [
    "print(True)\n",
    "print(False)"
   ]
  },
  {
   "cell_type": "code",
   "execution_count": 10,
   "metadata": {},
   "outputs": [
    {
     "name": "stdout",
     "output_type": "stream",
     "text": [
      "(4+5j)\n"
     ]
    }
   ],
   "source": [
    "print(4+5j)"
   ]
  },
  {
   "cell_type": "code",
   "execution_count": 11,
   "metadata": {},
   "outputs": [
    {
     "name": "stdout",
     "output_type": "stream",
     "text": [
      "Kolkata\n",
      "Kolkata\n",
      "Kolkata\n"
     ]
    }
   ],
   "source": [
    "#string\n",
    "print('Kolkata')\n",
    "print(\"Kolkata\")\n",
    "print(\"\"\"Kolkata\"\"\")"
   ]
  },
  {
   "cell_type": "markdown",
   "metadata": {},
   "source": [
    "# Container type"
   ]
  },
  {
   "cell_type": "code",
   "execution_count": 12,
   "metadata": {},
   "outputs": [
    {
     "name": "stdout",
     "output_type": "stream",
     "text": [
      "[1, 23, 5, 4]\n"
     ]
    }
   ],
   "source": [
    "# list\n",
    "\n",
    "print([1,23,5,4])"
   ]
  },
  {
   "cell_type": "code",
   "execution_count": 13,
   "metadata": {},
   "outputs": [
    {
     "name": "stdout",
     "output_type": "stream",
     "text": [
      "(1, 2, 4)\n"
     ]
    }
   ],
   "source": [
    "# tuple\n",
    "print((1,2,4))"
   ]
  },
  {
   "cell_type": "code",
   "execution_count": 14,
   "metadata": {},
   "outputs": [
    {
     "name": "stdout",
     "output_type": "stream",
     "text": [
      "{1, 2, 3, 5}\n"
     ]
    }
   ],
   "source": [
    "# sets\n",
    "print({1,2,3,5})"
   ]
  },
  {
   "cell_type": "code",
   "execution_count": 16,
   "metadata": {},
   "outputs": [
    {
     "name": "stdout",
     "output_type": "stream",
     "text": [
      "{'name': 'priya', 'Age': '22'}\n"
     ]
    }
   ],
   "source": [
    "# dict\n",
    "print({\"name\":\"priya\", \"Age\":'22'})"
   ]
  },
  {
   "cell_type": "markdown",
   "metadata": {},
   "source": [
    "# Comments"
   ]
  },
  {
   "cell_type": "code",
   "execution_count": 17,
   "metadata": {},
   "outputs": [],
   "source": [
    "# this is a comments\n"
   ]
  },
  {
   "cell_type": "markdown",
   "metadata": {},
   "source": [
    "# Variables"
   ]
  },
  {
   "cell_type": "code",
   "execution_count": 31,
   "metadata": {},
   "outputs": [
    {
     "name": "stdout",
     "output_type": "stream",
     "text": [
      "priya\n"
     ]
    }
   ],
   "source": [
    "name = 'priya'\n",
    "print(name)"
   ]
  },
  {
   "cell_type": "code",
   "execution_count": 19,
   "metadata": {},
   "outputs": [],
   "source": [
    "# in pyhton no variable declaration "
   ]
  },
  {
   "cell_type": "code",
   "execution_count": 20,
   "metadata": {},
   "outputs": [],
   "source": [
    "# it is call Dynamic typing where there are no need to declare any variable type\n",
    "\n",
    "# it is not static typing example of static typing :- c,c++, java etc"
   ]
  },
  {
   "cell_type": "code",
   "execution_count": 32,
   "metadata": {},
   "outputs": [],
   "source": [
    "# Dynamic Binding :- python have the  concept of Dynamic Binding because after define an any type of veriable we can define again deffernt type of variable "
   ]
  },
  {
   "cell_type": "code",
   "execution_count": 33,
   "metadata": {},
   "outputs": [],
   "source": [
    "# Static Binding:- it is opion to the  Dynamic Binding"
   ]
  },
  {
   "cell_type": "code",
   "execution_count": 34,
   "metadata": {},
   "outputs": [
    {
     "name": "stdout",
     "output_type": "stream",
     "text": [
      "2\n",
      "4\n",
      "5\n"
     ]
    }
   ],
   "source": [
    "# Special syntax\n",
    "a=2;v=4;c=5\n",
    "\n",
    "print(a)\n",
    "print(v)\n",
    "print(c)"
   ]
  },
  {
   "cell_type": "code",
   "execution_count": 35,
   "metadata": {},
   "outputs": [
    {
     "name": "stdout",
     "output_type": "stream",
     "text": [
      "1\n",
      "2\n",
      "3\n"
     ]
    }
   ],
   "source": [
    "a,b,c=1,2,3\n",
    "print(a)\n",
    "print(b)\n",
    "print(c)"
   ]
  },
  {
   "cell_type": "code",
   "execution_count": 36,
   "metadata": {},
   "outputs": [
    {
     "name": "stdout",
     "output_type": "stream",
     "text": [
      "6\n",
      "6\n",
      "6\n"
     ]
    }
   ],
   "source": [
    "a=b=c=6\n",
    "print(a)\n",
    "print(b)\n",
    "print(c)"
   ]
  },
  {
   "cell_type": "markdown",
   "metadata": {},
   "source": [
    "# Keywords"
   ]
  },
  {
   "cell_type": "markdown",
   "metadata": {},
   "source": [
    "* Python is a case sensitive programming language"
   ]
  },
  {
   "cell_type": "code",
   "execution_count": 38,
   "metadata": {},
   "outputs": [],
   "source": [
    "# In programming , a keyword is a word that is reserved by a program because the word has a special meaning . keywords can be commands or parameters . Every programming language has set of keywords that cannont be used as variable names."
   ]
  },
  {
   "cell_type": "code",
   "execution_count": 40,
   "metadata": {},
   "outputs": [
    {
     "name": "stdout",
     "output_type": "stream",
     "text": [
      "['False', 'None', 'True', 'and', 'as', 'assert', 'async', 'await', 'break', 'class', 'continue', 'def', 'del', 'elif', 'else', 'except', 'finally', 'for', 'from', 'global', 'if', 'import', 'in', 'is', 'lambda', 'nonlocal', 'not', 'or', 'pass', 'raise', 'return', 'try', 'while', 'with', 'yield']\n"
     ]
    }
   ],
   "source": [
    "# python has 33 keywords\n",
    "import keyword\n",
    "print(keyword.kwlist)"
   ]
  },
  {
   "cell_type": "markdown",
   "metadata": {},
   "source": [
    "# Identifiers"
   ]
  },
  {
   "cell_type": "code",
   "execution_count": 41,
   "metadata": {},
   "outputs": [],
   "source": [
    "# A python identifier ia a name used to identify a variable , function , class , module or other object "
   ]
  },
  {
   "cell_type": "markdown",
   "metadata": {},
   "source": [
    "# Rules for setting identifiers\n",
    "\n",
    "* can only start with an alphabet or _\n",
    "\n",
    "* Followed by 0 or more letter, _ nad digits\n",
    "\n",
    "* keywords cannot be used as an identifiers"
   ]
  },
  {
   "cell_type": "markdown",
   "metadata": {},
   "source": [
    "# Taking user input "
   ]
  },
  {
   "cell_type": "code",
   "execution_count": 44,
   "metadata": {},
   "outputs": [
    {
     "data": {
      "text/plain": [
       "'2'"
      ]
     },
     "execution_count": 44,
     "metadata": {},
     "output_type": "execute_result"
    }
   ],
   "source": [
    "input()"
   ]
  },
  {
   "cell_type": "code",
   "execution_count": 52,
   "metadata": {},
   "outputs": [
    {
     "data": {
      "text/plain": [
       "'4'"
      ]
     },
     "execution_count": 52,
     "metadata": {},
     "output_type": "execute_result"
    }
   ],
   "source": [
    "input(prompt = \"tell me your name\")"
   ]
  },
  {
   "cell_type": "markdown",
   "metadata": {},
   "source": [
    "# create an program of sum with  user number"
   ]
  },
  {
   "cell_type": "code",
   "execution_count": 70,
   "metadata": {},
   "outputs": [
    {
     "name": "stdout",
     "output_type": "stream",
     "text": [
      "38\n"
     ]
    }
   ],
   "source": [
    "first = input(\"Enter 1 st number\")\n",
    "second = input(\"Enter second number\")\n",
    "\n",
    "result = int(first)+int(second)\n",
    "print(result)\n"
   ]
  },
  {
   "cell_type": "code",
   "execution_count": 46,
   "metadata": {},
   "outputs": [
    {
     "name": "stdout",
     "output_type": "stream",
     "text": [
      "34\n",
      "34\n"
     ]
    }
   ],
   "source": [
    "print(first)\n",
    "print(second)"
   ]
  },
  {
   "cell_type": "code",
   "execution_count": null,
   "metadata": {},
   "outputs": [
    {
     "name": "stdout",
     "output_type": "stream",
     "text": [
      "3434\n"
     ]
    }
   ],
   "source": [
    "sum = first + second\n",
    "print(sum)\n"
   ]
  },
  {
   "cell_type": "markdown",
   "metadata": {},
   "source": [
    "* when ever you  are using input you will get input out as string because there are away  to take data "
   ]
  },
  {
   "cell_type": "code",
   "execution_count": 55,
   "metadata": {},
   "outputs": [
    {
     "data": {
      "text/plain": [
       "list"
      ]
     },
     "execution_count": 55,
     "metadata": {},
     "output_type": "execute_result"
    }
   ],
   "source": [
    "# type\n",
    "\n",
    "type(3.4)\n",
    "type([1,2,3])"
   ]
  },
  {
   "cell_type": "code",
   "execution_count": 57,
   "metadata": {},
   "outputs": [
    {
     "data": {
      "text/plain": [
       "str"
      ]
     },
     "execution_count": 57,
     "metadata": {},
     "output_type": "execute_result"
    }
   ],
   "source": [
    "type(first)"
   ]
  },
  {
   "cell_type": "markdown",
   "metadata": {},
   "source": [
    "# Types of Type Conversion\n",
    "\n",
    "* implicit :- when python doning automatically  type Conversion \n",
    "* explicit:- programmer going to do mannully conversion of the data "
   ]
  },
  {
   "cell_type": "code",
   "execution_count": 58,
   "metadata": {},
   "outputs": [
    {
     "data": {
      "text/plain": [
       "45"
      ]
     },
     "execution_count": 58,
     "metadata": {},
     "output_type": "execute_result"
    }
   ],
   "source": [
    "# int\n",
    "int('45')"
   ]
  },
  {
   "cell_type": "code",
   "execution_count": 59,
   "metadata": {},
   "outputs": [
    {
     "data": {
      "text/plain": [
       "4.0"
      ]
     },
     "execution_count": 59,
     "metadata": {},
     "output_type": "execute_result"
    }
   ],
   "source": [
    "float(4)"
   ]
  },
  {
   "cell_type": "code",
   "execution_count": 60,
   "metadata": {},
   "outputs": [
    {
     "data": {
      "text/plain": [
       "'44'"
      ]
     },
     "execution_count": 60,
     "metadata": {},
     "output_type": "execute_result"
    }
   ],
   "source": [
    "str(44)"
   ]
  },
  {
   "cell_type": "code",
   "execution_count": 61,
   "metadata": {},
   "outputs": [
    {
     "data": {
      "text/plain": [
       "False"
      ]
     },
     "execution_count": 61,
     "metadata": {},
     "output_type": "execute_result"
    }
   ],
   "source": [
    "bool(0)"
   ]
  },
  {
   "cell_type": "code",
   "execution_count": 62,
   "metadata": {},
   "outputs": [
    {
     "data": {
      "text/plain": [
       "(4+0j)"
      ]
     },
     "execution_count": 62,
     "metadata": {},
     "output_type": "execute_result"
    }
   ],
   "source": [
    "complex(4)"
   ]
  },
  {
   "cell_type": "code",
   "execution_count": 63,
   "metadata": {},
   "outputs": [
    {
     "data": {
      "text/plain": [
       "['h', 'e', 'l', 'l', 'o']"
      ]
     },
     "execution_count": 63,
     "metadata": {},
     "output_type": "execute_result"
    }
   ],
   "source": [
    "list('hello')"
   ]
  },
  {
   "cell_type": "code",
   "execution_count": 68,
   "metadata": {},
   "outputs": [],
   "source": [
    "# type conversion is not a paramnent operation it is use only for that sell\n",
    "\n",
    "# type casting is a paramanet solution"
   ]
  },
  {
   "cell_type": "code",
   "execution_count": 65,
   "metadata": {},
   "outputs": [],
   "source": [
    "a=4.5\n"
   ]
  },
  {
   "cell_type": "code",
   "execution_count": 66,
   "metadata": {},
   "outputs": [
    {
     "data": {
      "text/plain": [
       "4"
      ]
     },
     "execution_count": 66,
     "metadata": {},
     "output_type": "execute_result"
    }
   ],
   "source": [
    "int(a)"
   ]
  },
  {
   "cell_type": "code",
   "execution_count": 67,
   "metadata": {},
   "outputs": [
    {
     "data": {
      "text/plain": [
       "4.5"
      ]
     },
     "execution_count": 67,
     "metadata": {},
     "output_type": "execute_result"
    }
   ],
   "source": [
    "a"
   ]
  },
  {
   "cell_type": "markdown",
   "metadata": {},
   "source": [
    "# Literals\n",
    "\n",
    "Literals is a raw data given in a variable. In Python , there are various types of literals thy are as follows \n",
    "\n",
    "* Numeric Literals\n",
    "* String Literals\n",
    "* Boolean Literals \n",
    "* Special Literals"
   ]
  },
  {
   "cell_type": "code",
   "execution_count": 73,
   "metadata": {},
   "outputs": [
    {
     "name": "stdout",
     "output_type": "stream",
     "text": [
      "10 100 200 300\n",
      "10.5 150.0 0.0015\n",
      "3.14j 3.14 0.0\n"
     ]
    }
   ],
   "source": [
    "# Numeric Literals\n",
    "\n",
    "a=0b1010 # Binary Literals\n",
    "b=100 #Decimal literals\n",
    "c=0o310 #Octal literal\n",
    "d = 0x12c #Hexadecimal literal\n",
    "\n",
    "# Float literal\n",
    "\n",
    "float_1 = 10.5\n",
    "float_2= 1.5e2\n",
    "float_3 = 1.5e-3\n",
    "\n",
    "\n",
    "#Complex literal\n",
    "x = 3.14j\n",
    "\n",
    "print(a,b,c,d)\n",
    "print(float_1,float_2,float_3)\n",
    "\n",
    "print(x, x.imag, x.real)\n"
   ]
  },
  {
   "cell_type": "markdown",
   "metadata": {},
   "source": [
    "# String Literals"
   ]
  },
  {
   "cell_type": "code",
   "execution_count": 76,
   "metadata": {},
   "outputs": [
    {
     "name": "stdout",
     "output_type": "stream",
     "text": [
      "This is Python\n",
      "This is Python\n",
      "c\n",
      "This  is  a multiline string with more than one k=line code.\n",
      "😀😆🤣\n",
      "raw \\n string \n"
     ]
    }
   ],
   "source": [
    "string = 'This is Python'\n",
    "strings = \"This is Python\"\n",
    "char =\"c\"\n",
    "multiline_str = \"\"\"This  is  a multiline string with more than one k=line code.\"\"\"\n",
    "unicode =u\"\\U0001f600\\U0001f606\\U0001F923\"\n",
    "raw_str =r\"raw \\n string \"\n",
    "\n",
    "print(string)\n",
    "print(strings)\n",
    "print(char)\n",
    "print(multiline_str)\n",
    "print(unicode)\n",
    "print(raw_str)\n"
   ]
  },
  {
   "cell_type": "markdown",
   "metadata": {},
   "source": [
    "# Boolean Literal"
   ]
  },
  {
   "cell_type": "code",
   "execution_count": 78,
   "metadata": {},
   "outputs": [
    {
     "name": "stdout",
     "output_type": "stream",
     "text": [
      "5 10\n"
     ]
    }
   ],
   "source": [
    "a = True +4\n",
    "b = False+ 10\n",
    "print(a,b)"
   ]
  },
  {
   "cell_type": "markdown",
   "metadata": {},
   "source": [
    "# Special Literal"
   ]
  },
  {
   "cell_type": "code",
   "execution_count": null,
   "metadata": {},
   "outputs": [
    {
     "name": "stdout",
     "output_type": "stream",
     "text": [
      "None\n"
     ]
    }
   ],
   "source": [
    "a = None\n",
    "print(a)\n",
    "\n",
    "# if you want to assigne a varible but not assigne any type then use none "
   ]
  },
  {
   "cell_type": "markdown",
   "metadata": {},
   "source": [
    "# Operators\n",
    "\n",
    "Operators are used to  perform operations on variable and variables and values . python has following operators.\n",
    "\n",
    "* arithmetic operators\n",
    "* Comparison Operators\n",
    "* logical operators\n",
    "* Bitwise operators\n",
    "* Assignment operators\n",
    "* Identity operators\n",
    "* Membership operators "
   ]
  },
  {
   "cell_type": "markdown",
   "metadata": {},
   "source": [
    "# there are only  two  loops \n",
    "1. while loop\n",
    "\n",
    "2. for loop"
   ]
  },
  {
   "cell_type": "markdown",
   "metadata": {},
   "source": [
    "# What are modules?\n",
    "\n",
    "Consider a module to  be the same as a code library.\n",
    "\n",
    "\n",
    "A file containing a set of  functions you want to include in your application.\n",
    "\n",
    "\n",
    "Examples of python modules\n",
    "\n",
    "* Math\n",
    "\n",
    "* Random\n",
    "\n",
    "* os\n",
    "\n",
    "* time"
   ]
  },
  {
   "cell_type": "code",
   "execution_count": 81,
   "metadata": {},
   "outputs": [
    {
     "name": "stdout",
     "output_type": "stream",
     "text": [
      "\n",
      "Please wait a moment while I gather a list of all available modules...\n",
      "\n"
     ]
    },
    {
     "name": "stderr",
     "output_type": "stream",
     "text": [
      "The installed version of bitsandbytes was compiled without GPU support. 8-bit optimizers, 8-bit multiplication, and GPU quantization are unavailable.\n"
     ]
    },
    {
     "data": {
      "application/javascript": "if (window.IPython && IPython.notebook.kernel) IPython.notebook.kernel.execute('jovian.utils.jupyter.get_notebook_name_saved = lambda: \"' + IPython.notebook.notebook_name + '\"')",
      "text/plain": [
       "<IPython.core.display.Javascript object>"
      ]
     },
     "metadata": {},
     "output_type": "display_data"
    },
    {
     "name": "stderr",
     "output_type": "stream",
     "text": [
      "c:\\Users\\USER\\AppData\\Local\\Programs\\Python\\Python310\\lib\\site-packages\\kubernetes\\client\\apis\\__init__.py:10: DeprecationWarning: The package kubernetes.client.apis is renamed and deprecated, use kubernetes.client.api instead (please note that the trailing s was removed).\n",
      "  warnings.warn(\n",
      "c:\\Users\\USER\\AppData\\Local\\Programs\\Python\\Python310\\lib\\pkgutil.py:107: LangChainPendingDeprecationWarning: langchain.indexes.prompts will be removed in the future.If you're relying on these prompts, please open an issue on GitHub to explain your use case.\n",
      "  yield from walk_packages(path, info.name+'.', onerror)\n",
      "c:\\Users\\USER\\AppData\\Local\\Programs\\Python\\Python310\\lib\\pkgutil.py:107: LangChainDeprecationWarning: As of langchain-core 0.3.0, LangChain uses pydantic v2 internally. The langchain.pydantic_v1 module was a compatibility shim for pydantic v1, and should no longer be used. Please update the code to import from Pydantic directly.\n",
      "\n",
      "For example, replace imports like: `from langchain.pydantic_v1 import BaseModel`\n",
      "with: `from pydantic import BaseModel`\n",
      "or the v1 compatibility namespace if you are working in a code base that has not been fully upgraded to pydantic 2 yet. \tfrom pydantic.v1 import BaseModel\n",
      "\n",
      "  yield from walk_packages(path, info.name+'.', onerror)\n",
      "c:\\Users\\USER\\AppData\\Local\\Programs\\Python\\Python310\\lib\\pkgutil.py:107: LangChainDeprecationWarning: As of langchain-core 0.3.0, LangChain uses pydantic v2 internally. The langchain_core.pydantic_v1 module was a compatibility shim for pydantic v1, and should no longer be used. Please update the code to import from Pydantic directly.\n",
      "\n",
      "For example, replace imports like: `from langchain_core.pydantic_v1 import BaseModel`\n",
      "with: `from pydantic import BaseModel`\n",
      "or the v1 compatibility namespace if you are working in a code base that has not been fully upgraded to pydantic 2 yet. \tfrom pydantic.v1 import BaseModel\n",
      "\n",
      "  yield from walk_packages(path, info.name+'.', onerror)\n",
      "c:\\Users\\USER\\AppData\\Local\\Programs\\Python\\Python310\\lib\\site-packages\\nltk\\twitter\\__init__.py:20: UserWarning: The twython library has not been installed. Some functionality from the twitter package will not be available.\n",
      "  warnings.warn(\n",
      "c:\\Users\\USER\\AppData\\Local\\Programs\\Python\\Python310\\lib\\pkgutil.py:92: UserWarning: The numpy.array_api submodule is still experimental. See NEP 47.\n",
      "  __import__(info.name)\n",
      "c:\\Users\\USER\\AppData\\Local\\Programs\\Python\\Python310\\lib\\site-packages\\numpy\\distutils\\ccompiler.py:17: DeprecationWarning: The distutils.sysconfig module is deprecated, use sysconfig instead\n",
      "  from distutils.sysconfig import customize_compiler\n",
      "c:\\Users\\USER\\AppData\\Local\\Programs\\Python\\Python310\\lib\\pkgutil.py:92: DeprecationWarning: \n",
      "\n",
      "  `numpy.distutils` is deprecated since NumPy 1.23.0, as a result\n",
      "  of the deprecation of `distutils` itself. It will be removed for\n",
      "  Python >= 3.12. For older Python versions it will remain present.\n",
      "  It is recommended to use `setuptools < 60.0` for those Python versions.\n",
      "  For more details, see:\n",
      "    https://numpy.org/devdocs/reference/distutils_status_migration.html \n",
      "\n",
      "\n",
      "  __import__(info.name)\n",
      "c:\\Users\\USER\\AppData\\Local\\Programs\\Python\\Python310\\lib\\site-packages\\openapi_schema_pydantic\\v3\\v3_1_0\\reference.py:33: PydanticDeprecatedSince20: `pydantic.config.Extra` is deprecated, use literal values instead (e.g. `extra='allow'`). Deprecated in Pydantic V2.0 to be removed in V3.0. See Pydantic V2 Migration Guide at https://errors.pydantic.dev/2.10/migration/\n",
      "  extra = Extra.ignore\n",
      "c:\\Users\\USER\\AppData\\Local\\Programs\\Python\\Python310\\lib\\site-packages\\pydantic\\_internal\\_config.py:295: PydanticDeprecatedSince20: Support for class-based `config` is deprecated, use ConfigDict instead. Deprecated in Pydantic V2.0 to be removed in V3.0. See Pydantic V2 Migration Guide at https://errors.pydantic.dev/2.10/migration/\n",
      "  warnings.warn(DEPRECATION_MESSAGE, DeprecationWarning)\n",
      "c:\\Users\\USER\\AppData\\Local\\Programs\\Python\\Python310\\lib\\site-packages\\pydantic\\_internal\\_config.py:345: UserWarning: Valid config keys have changed in V2:\n",
      "* 'allow_population_by_field_name' has been renamed to 'populate_by_name'\n",
      "* 'schema_extra' has been renamed to 'json_schema_extra'\n",
      "  warnings.warn(message, UserWarning)\n",
      "c:\\Users\\USER\\AppData\\Local\\Programs\\Python\\Python310\\lib\\site-packages\\openapi_schema_pydantic\\v3\\v3_1_0\\example.py:37: PydanticDeprecatedSince20: `pydantic.config.Extra` is deprecated, use literal values instead (e.g. `extra='allow'`). Deprecated in Pydantic V2.0 to be removed in V3.0. See Pydantic V2 Migration Guide at https://errors.pydantic.dev/2.10/migration/\n",
      "  extra = Extra.ignore\n",
      "c:\\Users\\USER\\AppData\\Local\\Programs\\Python\\Python310\\lib\\site-packages\\pydantic\\_internal\\_config.py:295: PydanticDeprecatedSince20: Support for class-based `config` is deprecated, use ConfigDict instead. Deprecated in Pydantic V2.0 to be removed in V3.0. See Pydantic V2 Migration Guide at https://errors.pydantic.dev/2.10/migration/\n",
      "  warnings.warn(DEPRECATION_MESSAGE, DeprecationWarning)\n",
      "c:\\Users\\USER\\AppData\\Local\\Programs\\Python\\Python310\\lib\\site-packages\\pydantic\\_internal\\_config.py:345: UserWarning: Valid config keys have changed in V2:\n",
      "* 'schema_extra' has been renamed to 'json_schema_extra'\n",
      "  warnings.warn(message, UserWarning)\n",
      "c:\\Users\\USER\\AppData\\Local\\Programs\\Python\\Python310\\lib\\site-packages\\openapi_schema_pydantic\\v3\\v3_1_0\\encoding.py:71: PydanticDeprecatedSince20: `pydantic.config.Extra` is deprecated, use literal values instead (e.g. `extra='allow'`). Deprecated in Pydantic V2.0 to be removed in V3.0. See Pydantic V2 Migration Guide at https://errors.pydantic.dev/2.10/migration/\n",
      "  extra = Extra.ignore\n",
      "c:\\Users\\USER\\AppData\\Local\\Programs\\Python\\Python310\\lib\\site-packages\\pydantic\\_internal\\_config.py:295: PydanticDeprecatedSince20: Support for class-based `config` is deprecated, use ConfigDict instead. Deprecated in Pydantic V2.0 to be removed in V3.0. See Pydantic V2 Migration Guide at https://errors.pydantic.dev/2.10/migration/\n",
      "  warnings.warn(DEPRECATION_MESSAGE, DeprecationWarning)\n",
      "c:\\Users\\USER\\AppData\\Local\\Programs\\Python\\Python310\\lib\\site-packages\\openapi_schema_pydantic\\v3\\v3_1_0\\discriminator.py:28: PydanticDeprecatedSince20: `pydantic.config.Extra` is deprecated, use literal values instead (e.g. `extra='allow'`). Deprecated in Pydantic V2.0 to be removed in V3.0. See Pydantic V2 Migration Guide at https://errors.pydantic.dev/2.10/migration/\n",
      "  extra = Extra.ignore\n",
      "c:\\Users\\USER\\AppData\\Local\\Programs\\Python\\Python310\\lib\\site-packages\\pydantic\\_internal\\_config.py:295: PydanticDeprecatedSince20: Support for class-based `config` is deprecated, use ConfigDict instead. Deprecated in Pydantic V2.0 to be removed in V3.0. See Pydantic V2 Migration Guide at https://errors.pydantic.dev/2.10/migration/\n",
      "  warnings.warn(DEPRECATION_MESSAGE, DeprecationWarning)\n",
      "c:\\Users\\USER\\AppData\\Local\\Programs\\Python\\Python310\\lib\\site-packages\\openapi_schema_pydantic\\v3\\v3_1_0\\external_documentation.py:22: PydanticDeprecatedSince20: `pydantic.config.Extra` is deprecated, use literal values instead (e.g. `extra='allow'`). Deprecated in Pydantic V2.0 to be removed in V3.0. See Pydantic V2 Migration Guide at https://errors.pydantic.dev/2.10/migration/\n",
      "  extra = Extra.ignore\n",
      "c:\\Users\\USER\\AppData\\Local\\Programs\\Python\\Python310\\lib\\site-packages\\pydantic\\_internal\\_config.py:295: PydanticDeprecatedSince20: Support for class-based `config` is deprecated, use ConfigDict instead. Deprecated in Pydantic V2.0 to be removed in V3.0. See Pydantic V2 Migration Guide at https://errors.pydantic.dev/2.10/migration/\n",
      "  warnings.warn(DEPRECATION_MESSAGE, DeprecationWarning)\n",
      "c:\\Users\\USER\\AppData\\Local\\Programs\\Python\\Python310\\lib\\site-packages\\openapi_schema_pydantic\\v3\\v3_1_0\\xml.py:51: PydanticDeprecatedSince20: `pydantic.config.Extra` is deprecated, use literal values instead (e.g. `extra='allow'`). Deprecated in Pydantic V2.0 to be removed in V3.0. See Pydantic V2 Migration Guide at https://errors.pydantic.dev/2.10/migration/\n",
      "  extra = Extra.ignore\n",
      "c:\\Users\\USER\\AppData\\Local\\Programs\\Python\\Python310\\lib\\site-packages\\pydantic\\_internal\\_config.py:295: PydanticDeprecatedSince20: Support for class-based `config` is deprecated, use ConfigDict instead. Deprecated in Pydantic V2.0 to be removed in V3.0. See Pydantic V2 Migration Guide at https://errors.pydantic.dev/2.10/migration/\n",
      "  warnings.warn(DEPRECATION_MESSAGE, DeprecationWarning)\n",
      "c:\\Users\\USER\\AppData\\Local\\Programs\\Python\\Python310\\lib\\site-packages\\pydantic\\fields.py:1011: PydanticDeprecatedSince20: `min_items` is deprecated and will be removed, use `min_length` instead. Deprecated in Pydantic V2.0 to be removed in V3.0. See Pydantic V2 Migration Guide at https://errors.pydantic.dev/2.10/migration/\n",
      "  warn('`min_items` is deprecated and will be removed, use `min_length` instead', DeprecationWarning)\n",
      "c:\\Users\\USER\\AppData\\Local\\Programs\\Python\\Python310\\lib\\site-packages\\openapi_schema_pydantic\\v3\\v3_1_0\\schema.py:834: PydanticDeprecatedSince20: `pydantic.config.Extra` is deprecated, use literal values instead (e.g. `extra='allow'`). Deprecated in Pydantic V2.0 to be removed in V3.0. See Pydantic V2 Migration Guide at https://errors.pydantic.dev/2.10/migration/\n",
      "  extra = Extra.ignore\n",
      "c:\\Users\\USER\\AppData\\Local\\Programs\\Python\\Python310\\lib\\site-packages\\pydantic\\_internal\\_config.py:295: PydanticDeprecatedSince20: Support for class-based `config` is deprecated, use ConfigDict instead. Deprecated in Pydantic V2.0 to be removed in V3.0. See Pydantic V2 Migration Guide at https://errors.pydantic.dev/2.10/migration/\n",
      "  warnings.warn(DEPRECATION_MESSAGE, DeprecationWarning)\n",
      "c:\\Users\\USER\\AppData\\Local\\Programs\\Python\\Python310\\lib\\site-packages\\openapi_schema_pydantic\\v3\\v3_1_0\\media_type.py:52: PydanticDeprecatedSince20: `pydantic.config.Extra` is deprecated, use literal values instead (e.g. `extra='allow'`). Deprecated in Pydantic V2.0 to be removed in V3.0. See Pydantic V2 Migration Guide at https://errors.pydantic.dev/2.10/migration/\n",
      "  extra = Extra.ignore\n",
      "c:\\Users\\USER\\AppData\\Local\\Programs\\Python\\Python310\\lib\\site-packages\\pydantic\\_internal\\_config.py:295: PydanticDeprecatedSince20: Support for class-based `config` is deprecated, use ConfigDict instead. Deprecated in Pydantic V2.0 to be removed in V3.0. See Pydantic V2 Migration Guide at https://errors.pydantic.dev/2.10/migration/\n",
      "  warnings.warn(DEPRECATION_MESSAGE, DeprecationWarning)\n",
      "c:\\Users\\USER\\AppData\\Local\\Programs\\Python\\Python310\\lib\\site-packages\\openapi_schema_pydantic\\v3\\v3_1_0\\parameter.py:144: PydanticDeprecatedSince20: `pydantic.config.Extra` is deprecated, use literal values instead (e.g. `extra='allow'`). Deprecated in Pydantic V2.0 to be removed in V3.0. See Pydantic V2 Migration Guide at https://errors.pydantic.dev/2.10/migration/\n",
      "  extra = Extra.ignore\n",
      "c:\\Users\\USER\\AppData\\Local\\Programs\\Python\\Python310\\lib\\site-packages\\pydantic\\_internal\\_config.py:295: PydanticDeprecatedSince20: Support for class-based `config` is deprecated, use ConfigDict instead. Deprecated in Pydantic V2.0 to be removed in V3.0. See Pydantic V2 Migration Guide at https://errors.pydantic.dev/2.10/migration/\n",
      "  warnings.warn(DEPRECATION_MESSAGE, DeprecationWarning)\n",
      "c:\\Users\\USER\\AppData\\Local\\Programs\\Python\\Python310\\lib\\site-packages\\pip\\_vendor\\pkg_resources\\__init__.py:3116: DeprecationWarning: Deprecated call to `pkg_resources.declare_namespace('google')`.\n",
      "Implementing implicit namespace packages (as specified in PEP 420) is preferred to `pkg_resources.declare_namespace`. See https://setuptools.pypa.io/en/latest/references/keywords.html#keyword-namespace-packages\n",
      "  declare_namespace(pkg)\n",
      "c:\\Users\\USER\\AppData\\Local\\Programs\\Python\\Python310\\lib\\site-packages\\pydantic\\experimental\\__init__.py:7: PydanticExperimentalWarning:\n",
      "\n",
      "This module is experimental, its contents are subject to change and deprecation.\n",
      "\n"
     ]
    },
    {
     "name": "stdout",
     "output_type": "stream",
     "text": [
      "Python version: 3.10.3 (tags/v3.10.3:a342a49, Mar 16 2022, 13:07:40) [MSC v.1929 64 bit (AMD64)]\n",
      "GEOS version: 3.11.4-CAPI-1.17.4\n",
      "Numpy version: 1.24.4\n"
     ]
    },
    {
     "name": "stderr",
     "output_type": "stream",
     "text": [
      "c:\\Users\\USER\\AppData\\Local\\Programs\\Python\\Python310\\lib\\site-packages\\tensorboard\\_vendor\\html5lib\\filters\\sanitizer.py:29: DeprecationWarning:\n",
      "\n",
      "html5lib's sanitizer is deprecated; see https://github.com/html5lib/html5lib-python/issues/443 and please let us know if Bleach is unsuitable for your needs\n",
      "\n",
      "c:\\Users\\USER\\AppData\\Local\\Programs\\Python\\Python310\\lib\\site-packages\\torch\\distributed\\_sharded_tensor\\__init__.py:8: DeprecationWarning:\n",
      "\n",
      "torch.distributed._sharded_tensor will be deprecated, use torch.distributed._shard.sharded_tensor instead\n",
      "\n",
      "c:\\Users\\USER\\AppData\\Local\\Programs\\Python\\Python310\\lib\\site-packages\\torch\\distributed\\_sharding_spec\\__init__.py:8: DeprecationWarning:\n",
      "\n",
      "torch.distributed._sharding_spec will be deprecated, use torch.distributed._shard.sharding_spec instead\n",
      "\n",
      "[2025-03-24 15:02:28,065] torch.distributed.elastic.multiprocessing.redirects: [WARNING] NOTE: Redirects are currently not supported in Windows or MacOs.\n",
      "c:\\Users\\USER\\AppData\\Local\\Programs\\Python\\Python310\\lib\\pkgutil.py:92: DeprecationWarning:\n",
      "\n",
      "unstructured.ingest will be removed in a future version. Functionality moved to the unstructured-ingest project.\n",
      "\n",
      "c:\\Users\\USER\\AppData\\Local\\Programs\\Python\\Python310\\lib\\site-packages\\websockets\\legacy\\__init__.py:6: DeprecationWarning:\n",
      "\n",
      "websockets.legacy is deprecated; see https://websockets.readthedocs.io/en/stable/howto/upgrade.html for upgrade instructions\n",
      "\n"
     ]
    },
    {
     "name": "stdout",
     "output_type": "stream",
     "text": [
      "IPython             csv                 markdown_it         sndhdr\n",
      "OleFileIO_PL        ctypes              markupsafe          sniffio\n",
      "PIL                 curses              marshal             socket\n",
      "PyPDF2              cv2                 marshmallow         socketio\n",
      "__future__          cycler              math                socketserver\n",
      "_abc                cymem               matplotlib          socks\n",
      "_aix_support        dataclasses         matplotlib_inline   sockshandler\n",
      "_argon2_cffi_bindings dataclasses_json    mdurl               sounddevice\n",
      "_ast                datasets            mediapipe           soupsieve\n",
      "_asyncio            datetime            mimetypes           spacy\n",
      "_bisect             dateutil            mistune             spacy_legacy\n",
      "_blake2             dbm                 ml_dtypes           spacy_loggers\n",
      "_bootsubprocess     dde                 mltu                sqlalchemy\n",
      "_bz2                debugpy             mlxtend             sqlite3\n",
      "_cffi_backend       decimal             mmap                sre_compile\n",
      "_codecs             decorator           mmapfile            sre_constants\n",
      "_codecs_cn          deepface            mmh3                sre_parse\n",
      "_codecs_hk          defusedxml          mmsystem            srsly\n",
      "_codecs_iso2022     deprecated          modulefinder        ssl\n",
      "_codecs_jp          difflib             monotonic           sspi\n",
      "_codecs_kr          dill                moviepy             sspicon\n",
      "_codecs_tw          dis                 mpmath              stack_data\n",
      "_collections        distro              msgpack             starlette\n",
      "_collections_abc    distutils           msilib              start_pythonwin\n",
      "_compat_pickle      dlib                msvcrt              stat\n",
      "_compression        dns                 mtcnn               statistics\n",
      "_contextvars        doctest             multidict           statsmodels\n",
      "_csv                docx                multipart           stow\n",
      "_ctypes             dotenv              multiprocess        streamlit\n",
      "_ctypes_test        durationpy          multiprocessing     string\n",
      "_datetime           easyocr             murmurhash          stringprep\n",
      "_decimal            email               mypy_extensions     struct\n",
      "_distutils_hack     email_validator     namex               subprocess\n",
      "_dlib_pybind11      emoji               narwhals            sunau\n",
      "_elementtree        en_core_web_sm      nbclient            sympy\n",
      "_functools          encodings           nbconvert           symtable\n",
      "_hashlib            engineio            nbformat            sys\n",
      "_heapq              ensurepip           nest_asyncio        sysconfig\n",
      "_imp                enum                netbios             tabnanny\n",
      "_io                 errno               netrc               tarfile\n",
      "_json               eval_type_backport  networkx            telnetlib\n",
      "_locale             exceptiongroup      ninja               tempfile\n",
      "_lsprof             executing           nltk                tenacity\n",
      "_lzma               face_recognition    nntplib             tensorboard\n",
      "_markupbase         face_recognition_models notebook            tensorboard_data_server\n",
      "_md5                facenet_pytorch     notebook_shim       tensorboard_plugin_wit\n",
      "_msi                faiss               nt                  tensorflow_estimator\n",
      "_multibytecodec     fastapi             ntpath              tensorflow_io_gcs_filesystem\n",
      "_multiprocess       fastapi_cli         ntsecuritycon       termcolor\n",
      "_multiprocessing    fastjsonschema      nturl2path          terminado\n",
      "_opcode             faulthandler        numbers             test\n",
      "_operator           feedparser          numexpr             test_unstructured\n",
      "_osx_support        fer                 numpy               tests\n",
      "_overlapped         ffmpeg              oauthlib            textblob\n",
      "_pickle             filecmp             odbc                textwrap\n",
      "_plotly_future_     fileinput           olefile             tf2onnx\n",
      "_plotly_utils       filelock            ollama              tf_keras\n",
      "_py_abc             filetype            onnx                thinc\n",
      "_pydecimal          fire                onnxruntime         this\n",
      "_pyio               fitz                opcode              threading\n",
      "_queue              flask               openai              threadpoolctl\n",
      "_random             flask_cors          openapi_schema_pydantic tifffile\n",
      "_sha1               flask_socketio      operator            tiktoken\n",
      "_sha256             flatbuffers         opt_einsum          time\n",
      "_sha3               fnmatch             optparse            timeit\n",
      "_sha512             fontTools           optree              timer\n",
      "_signal             fqdn                orjson              tinycss2\n",
      "_sitebuiltins       fractions           os                  tkinter\n",
      "_socket             frozenlist          overrides           token\n",
      "_sounddevice        fsspec              oxmsg               tokenize\n",
      "_sounddevice_data   ftplib              packaging           tokenizers\n",
      "_sqlite3            functools           pandas              toml\n",
      "_sre                functorch           pandocfilters       tomli\n",
      "_ssl                gast                parso               torch\n",
      "_stat               gc                  pasta               torchgen\n",
      "_statistics         gdown               pathlib             torchvision\n",
      "_string             genericpath         patsy               tornado\n",
      "_strptime           geomet              pdb                 tqdm\n",
      "_struct             getopt              pdfminer            trace\n",
      "_symtable           getpass             pdfplumber          traceback\n",
      "_testbuffer         gettext             perfmon             tracemalloc\n",
      "_testcapi           git                 pickle              traitlets\n",
      "_testconsole        gitdb               pickletools         transformers\n",
      "_testimportmultiple glob                pinecone            tty\n",
      "_testinternalcapi   google_auth_httplib2 pip                 turtle\n",
      "_testmultiphase     google_auth_oauthlib pipes               turtledemo\n",
      "_thread             googleapiclient     pkg_resources       typer\n",
      "_threading_local    graphlib            pkgutil             types\n",
      "_tkinter            greenlet            platform            typing\n",
      "_tracemalloc        gridfs              platformdirs        typing_extensions\n",
      "_uuid               groq                plistlib            typing_inspect\n",
      "_warnings           grpc                plotly              tzdata\n",
      "_weakref            grpc_status         poplib              ujson\n",
      "_weakrefset         gunicorn            posixpath           unicodedata\n",
      "_win32sysloader     gzip                posthog             unittest\n",
      "_win32verstamp_pywin32ctypes h11                 pprint              unstructured\n",
      "_winapi             h5py                preshed             unstructured_client\n",
      "_winxptheme         hashlib             profile             uri_template\n",
      "_xxsubinterpreters  heapq               proglog             uritemplate\n",
      "_yaml               hmac                prometheus_client   urllib\n",
      "_zoneinfo           hnswlib             prompt_toolkit      urllib3\n",
      "abc                 html                propcache           uu\n",
      "absl                html5lib            proto               uuid\n",
      "accelerate          http                pstats              uvicorn\n",
      "addict              httpcore            psutil              venv\n",
      "adodbapi            httplib2            pty                 warnings\n",
      "afxres              httptools           pure_eval           wasabi\n",
      "aifc                httpx               py_compile          watchdog\n",
      "aiofiles            httpx_sse           pyarrow             watchfiles\n",
      "aiohappyeyeballs    huggingface_hub     pyasn1              wave\n",
      "aiohttp             humanfriendly       pyasn1_modules      wcwidth\n",
      "aiosignal           idlelib             pyclbr              weakref\n",
      "altair              idna                pyclipper           weasel\n",
      "annotated_types     imageio             pycparser           webbrowser\n",
      "antigravity         imageio_ffmpeg      pydantic            webcolors\n",
      "anyio               imaplib             pydantic_core       webencodings\n",
      "apiclient           imghdr              pydantic_extra_types websocket\n",
      "argon2              imp                 pydantic_settings   websockets\n",
      "argparse            importlib           pydeck              werkzeug\n",
      "array               importlib_metadata  pydoc               wheel\n",
      "arrow               importlib_resources pydoc_data          widgetsnbextension\n",
      "arxiv               inspect             pyexpat             wikipedia\n",
      "asgiref             io                  pygments            win2kras\n",
      "ast                 ipaddress           pylab               win32_setctime\n",
      "asttokens           ipykernel           pymongo             win32api\n",
      "astunparse          ipykernel_launcher  pymupdf             win32clipboard\n",
      "async_lru           ipywidgets          pyparsing           win32com\n",
      "async_timeout       isapi               pypdf               win32con\n",
      "asynchat            iso639              pypdfium2           win32console\n",
      "asyncio             isoduration         pypdfium2_raw       win32cred\n",
      "asyncore            isympy              pypika              win32crypt\n",
      "atexit              itertools           pyproject_hooks     win32cryptcon\n",
      "attr                itsdangerous        pyreadline3         win32event\n",
      "attrs               jax                 pytesseract         win32evtlog\n",
      "audioop             jaxlib              python_multipart    win32evtlogutil\n",
      "babel               jedi                pythoncom           win32file\n",
      "backoff             jinja2              pythonjsonlogger    win32gui\n",
      "base64              jiter               pytz                win32gui_struct\n",
      "bcrypt              joblib              pywin               win32help\n",
      "bdb                 jovian              pywin32_bootstrap   win32inet\n",
      "bert_score          json                pywin32_testutil    win32inetcon\n",
      "bert_score_cli      json5               pywintypes          win32job\n",
      "bidi                jsonpatch           qqdm                win32lz\n",
      "bidict              jsonpath            queue               win32net\n",
      "binascii            jsonpointer         quopri              win32netcon\n",
      "binhex              jsonschema          random              win32pdh\n",
      "bisect              jsonschema_specifications rapidfuzz           win32pdhquery\n",
      "bitsandbytes        jupyter             rasutil             win32pdhutil\n",
      "bleach              jupyter_client      re                  win32pipe\n",
      "blinker             jupyter_console     readline            win32print\n",
      "blis                jupyter_core        referencing         win32process\n",
      "bs4                 jupyter_events      regcheck            win32profile\n",
      "bson                jupyter_lsp         regex               win32ras\n",
      "build               jupyter_server      regutil             win32rcparser\n",
      "builtins            jupyter_server_terminals reprlib             win32security\n",
      "bz2                 jupyterlab          requests            win32service\n",
      "cProfile            jupyterlab_pygments requests_oauthlib   win32serviceutil\n",
      "cachetools          jupyterlab_server   requests_toolbelt   win32timezone\n",
      "calendar            jupyterlab_widgets  retinaface          win32trace\n",
      "cassandra           keras               rfc3339_validator   win32traceutil\n",
      "cassio              keras_preprocessing rfc3986_validator   win32transaction\n",
      "catalogue           keyword             rich                win32ts\n",
      "certifi             kiwisolver          rich_toolkit        win32ui\n",
      "cffi                kubernetes          rlcompleter         win32uiole\n",
      "cgi                 langchain           rpds                win32verstamp\n",
      "cgitb               langchain_community rsa                 win32wnet\n",
      "chardet             langchain_core      runpy               winerror\n",
      "charset_normalizer  langchain_groq      safetensors         winioctlcon\n",
      "chromadb            langchain_huggingface sched               winnt\n",
      "chunk               langchain_openai    scipy               winperf\n",
      "clang               langchain_text_splitters seaborn             winpty\n",
      "click               langchainhub        secrets             winreg\n",
      "cloudpathlib        langchainplus_sdk   select              winsound\n",
      "cmath               langcodes           selectors           winxpgui\n",
      "cmd                 langdetect          send2trash          winxptheme\n",
      "code                langgraph_sdk       sentence_transformers wrapt\n",
      "codecs              langid              sentencepiece       wsgiref\n",
      "codeop              langserve           servicemanager      wsproto\n",
      "collections         langsmith           setuptools          xdrlib\n",
      "colorama            language_data       sgmllib             xml\n",
      "coloredlogs         language_tool_python shapely             xmlrpc\n",
      "colorsys            lazy_loader         shellingham         xxhash\n",
      "comm                lib2to3             shelve              xxsubtype\n",
      "commctrl            linecache           shlex               yaml\n",
      "compileall          locale              shutil              yarl\n",
      "concurrent          logging             signal              zipapp\n",
      "confection          loguru              simple_websocket    zipfile\n",
      "configparser        lxml                site                zipimport\n",
      "contextlib          lz4                 six                 zipp\n",
      "contextvars         lzma                skimage             zlib\n",
      "contourpy           magic               sklearn             zmq\n",
      "copy                mailbox             smart_open          zoneinfo\n",
      "copyreg             mailcap             smmap               ~umpy\n",
      "crypt               marisa_trie         smtpd               \n",
      "cryptography        markdown            smtplib             \n",
      "\n",
      "Enter any module name to get more help.  Or, type \"modules spam\" to search\n",
      "for modules whose name or summary contain the string \"spam\".\n",
      "\n"
     ]
    }
   ],
   "source": [
    "help('modules')"
   ]
  },
  {
   "cell_type": "markdown",
   "metadata": {},
   "source": [
    "# Strings are sequence of Characters\n",
    "\n",
    "In Python specifically,  strings are a sequence of Unicode Characters \n",
    "\n",
    "* Creating Strings \n",
    "* Accessing strings \n",
    "* adding chars to strings \n",
    "* Editing strings \n",
    "* Deleting strings \n",
    "* Operations on Strings\n",
    "* String Functions "
   ]
  },
  {
   "cell_type": "code",
   "execution_count": 82,
   "metadata": {},
   "outputs": [
    {
     "name": "stdout",
     "output_type": "stream",
     "text": [
      "hello hello\n"
     ]
    }
   ],
   "source": [
    "# creating string\n",
    "c= 'hello'\n",
    "x=\"hello\"\n",
    "print(x,c)"
   ]
  },
  {
   "cell_type": "code",
   "execution_count": 84,
   "metadata": {},
   "outputs": [
    {
     "name": "stdout",
     "output_type": "stream",
     "text": [
      "Hello\n"
     ]
    }
   ],
   "source": [
    "a ='''Hello'''  # for multi line string\n",
    "print(a)"
   ]
  },
  {
   "cell_type": "markdown",
   "metadata": {},
   "source": [
    "# Accessing Substring from a String "
   ]
  },
  {
   "cell_type": "code",
   "execution_count": 85,
   "metadata": {},
   "outputs": [
    {
     "name": "stdout",
     "output_type": "stream",
     "text": [
      "hello\n"
     ]
    }
   ],
   "source": [
    "# concept of Indexing \n",
    "c = \"hello\"\n",
    "print(c)"
   ]
  },
  {
   "cell_type": "code",
   "execution_count": 87,
   "metadata": {},
   "outputs": [
    {
     "name": "stdout",
     "output_type": "stream",
     "text": [
      "o\n"
     ]
    }
   ],
   "source": [
    "print(c[4])"
   ]
  },
  {
   "cell_type": "markdown",
   "metadata": {},
   "source": [
    "# type of indexing \n",
    "* Postive Indexing \n",
    "* Negative Indexing \n",
    "\n",
    "\n",
    "print(c[-3])"
   ]
  },
  {
   "cell_type": "code",
   "execution_count": 88,
   "metadata": {},
   "outputs": [
    {
     "name": "stdout",
     "output_type": "stream",
     "text": [
      "l\n"
     ]
    }
   ],
   "source": [
    "print(c[-2])"
   ]
  },
  {
   "cell_type": "markdown",
   "metadata": {},
   "source": [
    "# Slicing"
   ]
  },
  {
   "cell_type": "code",
   "execution_count": 89,
   "metadata": {},
   "outputs": [
    {
     "name": "stdout",
     "output_type": "stream",
     "text": [
      "Hello World\n"
     ]
    }
   ],
   "source": [
    "c = \"Hello World\"\n",
    "\n",
    "print(c)"
   ]
  },
  {
   "cell_type": "code",
   "execution_count": 90,
   "metadata": {},
   "outputs": [
    {
     "name": "stdout",
     "output_type": "stream",
     "text": [
      "Hell\n"
     ]
    }
   ],
   "source": [
    "print(c[0:4])"
   ]
  },
  {
   "cell_type": "code",
   "execution_count": 91,
   "metadata": {},
   "outputs": [
    {
     "name": "stdout",
     "output_type": "stream",
     "text": [
      "llo World\n"
     ]
    }
   ],
   "source": [
    "\n",
    "print(c[2:])"
   ]
  },
  {
   "cell_type": "code",
   "execution_count": 92,
   "metadata": {},
   "outputs": [
    {
     "name": "stdout",
     "output_type": "stream",
     "text": [
      "Hell\n"
     ]
    }
   ],
   "source": [
    "print(c[:4])"
   ]
  },
  {
   "cell_type": "code",
   "execution_count": 93,
   "metadata": {},
   "outputs": [
    {
     "name": "stdout",
     "output_type": "stream",
     "text": [
      "Hello World\n"
     ]
    }
   ],
   "source": [
    "print(c[:])"
   ]
  },
  {
   "cell_type": "code",
   "execution_count": 94,
   "metadata": {},
   "outputs": [
    {
     "name": "stdout",
     "output_type": "stream",
     "text": [
      "lo\n"
     ]
    }
   ],
   "source": [
    "print(c[2:6:2])"
   ]
  },
  {
   "cell_type": "code",
   "execution_count": 95,
   "metadata": {},
   "outputs": [
    {
     "name": "stdout",
     "output_type": "stream",
     "text": [
      "dlroW olleH\n"
     ]
    }
   ],
   "source": [
    "print(c[::-1])"
   ]
  },
  {
   "cell_type": "markdown",
   "metadata": {},
   "source": [
    "# Editing and deleting in strings \n",
    "  \n",
    "  \n",
    "  * string can not be  edit \n",
    "\n",
    "\n",
    "  # operations on Strings \n",
    "   * Arithmetic Operations\n",
    "   * Relational Operations\n",
    "   * Logical Operations\n",
    "   * Loops on Strings \n",
    "   * Membership Operations"
   ]
  },
  {
   "cell_type": "code",
   "execution_count": 1,
   "metadata": {},
   "outputs": [
    {
     "data": {
      "text/plain": [
       "'helloPriya'"
      ]
     },
     "execution_count": 1,
     "metadata": {},
     "output_type": "execute_result"
    }
   ],
   "source": [
    "\"hello\"+\"Priya\""
   ]
  },
  {
   "cell_type": "code",
   "execution_count": 2,
   "metadata": {},
   "outputs": [
    {
     "name": "stdout",
     "output_type": "stream",
     "text": [
      "**************************************************\n"
     ]
    }
   ],
   "source": [
    "print(\"*\"*50)"
   ]
  },
  {
   "cell_type": "code",
   "execution_count": 3,
   "metadata": {},
   "outputs": [
    {
     "name": "stdout",
     "output_type": "stream",
     "text": [
      "hellohellohellohellohellohellohellohellohellohellohellohellohellohellohellohellohellohellohellohellohellohellohellohellohellohellohellohellohello\n"
     ]
    }
   ],
   "source": [
    "print(\"hello\"*29)"
   ]
  },
  {
   "cell_type": "code",
   "execution_count": 4,
   "metadata": {},
   "outputs": [
    {
     "data": {
      "text/plain": [
       "'world'"
      ]
     },
     "execution_count": 4,
     "metadata": {},
     "output_type": "execute_result"
    }
   ],
   "source": [
    "\"hello\" and \"world\"\n",
    "\n"
   ]
  },
  {
   "cell_type": "code",
   "execution_count": null,
   "metadata": {},
   "outputs": [],
   "source": [
    "\"\" -> False\n",
    "\"dsgsfgg\" -> True"
   ]
  },
  {
   "cell_type": "code",
   "execution_count": 5,
   "metadata": {},
   "outputs": [
    {
     "data": {
      "text/plain": [
       "''"
      ]
     },
     "execution_count": 5,
     "metadata": {},
     "output_type": "execute_result"
    }
   ],
   "source": [
    "\"\" and \"Hello\""
   ]
  },
  {
   "cell_type": "code",
   "execution_count": 6,
   "metadata": {},
   "outputs": [
    {
     "data": {
      "text/plain": [
       "'world'"
      ]
     },
     "execution_count": 6,
     "metadata": {},
     "output_type": "execute_result"
    }
   ],
   "source": [
    "\"\" or \"world\""
   ]
  },
  {
   "cell_type": "code",
   "execution_count": 7,
   "metadata": {},
   "outputs": [
    {
     "data": {
      "text/plain": [
       "'hello'"
      ]
     },
     "execution_count": 7,
     "metadata": {},
     "output_type": "execute_result"
    }
   ],
   "source": [
    "\"hello\" or \"world\""
   ]
  },
  {
   "cell_type": "code",
   "execution_count": 8,
   "metadata": {},
   "outputs": [
    {
     "data": {
      "text/plain": [
       "'world'"
      ]
     },
     "execution_count": 8,
     "metadata": {},
     "output_type": "execute_result"
    }
   ],
   "source": [
    "\"hello\" and \"world\""
   ]
  },
  {
   "cell_type": "code",
   "execution_count": 9,
   "metadata": {},
   "outputs": [
    {
     "data": {
      "text/plain": [
       "False"
      ]
     },
     "execution_count": 9,
     "metadata": {},
     "output_type": "execute_result"
    }
   ],
   "source": [
    "not \"hello\""
   ]
  },
  {
   "cell_type": "markdown",
   "metadata": {},
   "source": [
    "# Common functions \n",
    "\n",
    "* len\n",
    "* max\n",
    "* min\n",
    "* sorted"
   ]
  },
  {
   "cell_type": "code",
   "execution_count": 1,
   "metadata": {},
   "outputs": [
    {
     "data": {
      "text/plain": [
       "7"
      ]
     },
     "execution_count": 1,
     "metadata": {},
     "output_type": "execute_result"
    }
   ],
   "source": [
    "c = \"kolkata\"\n",
    "len(c)"
   ]
  },
  {
   "cell_type": "code",
   "execution_count": 2,
   "metadata": {},
   "outputs": [
    {
     "data": {
      "text/plain": [
       "'t'"
      ]
     },
     "execution_count": 2,
     "metadata": {},
     "output_type": "execute_result"
    }
   ],
   "source": [
    "max(c)"
   ]
  },
  {
   "cell_type": "code",
   "execution_count": 3,
   "metadata": {},
   "outputs": [
    {
     "data": {
      "text/plain": [
       "'a'"
      ]
     },
     "execution_count": 3,
     "metadata": {},
     "output_type": "execute_result"
    }
   ],
   "source": [
    "min(c)"
   ]
  },
  {
   "cell_type": "code",
   "execution_count": 4,
   "metadata": {},
   "outputs": [
    {
     "data": {
      "text/plain": [
       "['a', 'a', 'k', 'k', 'l', 'o', 't']"
      ]
     },
     "execution_count": 4,
     "metadata": {},
     "output_type": "execute_result"
    }
   ],
   "source": [
    "sorted(c)"
   ]
  },
  {
   "cell_type": "code",
   "execution_count": 5,
   "metadata": {},
   "outputs": [
    {
     "data": {
      "text/plain": [
       "['t', 'o', 'l', 'k', 'k', 'a', 'a']"
      ]
     },
     "execution_count": 5,
     "metadata": {},
     "output_type": "execute_result"
    }
   ],
   "source": [
    "sorted(c,reverse=True)"
   ]
  },
  {
   "cell_type": "markdown",
   "metadata": {},
   "source": [
    "# 1. Capitalize /Title/Upper/Lower/Swapcase"
   ]
  },
  {
   "cell_type": "code",
   "execution_count": null,
   "metadata": {},
   "outputs": [],
   "source": []
  }
 ],
 "metadata": {
  "kernelspec": {
   "display_name": "Python (.venv)",
   "language": "python",
   "name": ".venv"
  },
  "language_info": {
   "codemirror_mode": {
    "name": "ipython",
    "version": 3
   },
   "file_extension": ".py",
   "mimetype": "text/x-python",
   "name": "python",
   "nbconvert_exporter": "python",
   "pygments_lexer": "ipython3",
   "version": "3.10.3"
  }
 },
 "nbformat": 4,
 "nbformat_minor": 2
}
